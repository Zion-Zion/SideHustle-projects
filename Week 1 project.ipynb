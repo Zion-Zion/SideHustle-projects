{
 "cells": [
  {
   "cell_type": "code",
   "execution_count": 4,
   "metadata": {},
   "outputs": [
    {
     "name": "stdout",
     "output_type": "stream",
     "text": [
      "Enter your Final percentage 55\n",
      "You did not score above the pass mark\n"
     ]
    }
   ],
   "source": [
    "finalpercentage=int(input('Enter your Final percentage '))\n",
    "avgpercentage=50\n",
    "passmark=60\n",
    "\n",
    "\n",
    "while finalpercentage >=passmark:\n",
    "    if (avgpercentage-finalpercentage)>5:\n",
    "        print('You scored above the pass mark but unfortunately, you did not pass the average score')\n",
    "    else:\n",
    "        print('You scored above the pass mark and Congratulations, you passed the average score')\n",
    "    break\n",
    "    \n",
    "else: #finalpercentage <passmark:\n",
    "    print('You did not score above the pass mark')"
   ]
  },
  {
   "cell_type": "code",
   "execution_count": 7,
   "metadata": {},
   "outputs": [
    {
     "name": "stdout",
     "output_type": "stream",
     "text": [
      "failed 2\n"
     ]
    }
   ],
   "source": [
    "if finalpercentage>passmark and finalpercenage>avgpercentage:\n",
    "    print('passed 1')\n",
    "else:\n",
    "    if avgpercentage>passmark:\n",
    "        if finalpercentge<(avgpercentage-5):\n",
    "            print('failed 1')\n",
    "        else:\n",
    "            print('passed 2')\n",
    "    else:\n",
    "        print('failed 2')"
   ]
  },
  {
   "cell_type": "code",
   "execution_count": 3,
   "metadata": {},
   "outputs": [
    {
     "name": "stdin",
     "output_type": "stream",
     "text": [
      "input avg:  80\n",
      "insert student mark:  65\n"
     ]
    },
    {
     "name": "stdout",
     "output_type": "stream",
     "text": [
      "u beat pass mark but failed to beat class average\n"
     ]
    }
   ],
   "source": [
    "def student_status(class_avg, student_score):\n",
    "    pass_mark = 60\n",
    "    if student_score >= pass_mark:\n",
    "        if student_score >= class_avg:\n",
    "            print('pass')\n",
    "        elif student_score >= class_avg-5:\n",
    "            print('almost fail but pass')\n",
    "        elif student_score < class_avg:\n",
    "            print('u beat pass mark but failed to beat class average')\n",
    "    elif student_score < pass_mark and student_score >= class_avg:\n",
    "        print('beat class avg but not pass mark')\n",
    "    else:\n",
    "        print('fail')\n",
    "\n",
    "class_avg = float(input('input avg: '))\n",
    "student_score = int(input('insert student mark: '))\n",
    "\n",
    "student_status(class_avg,student_score)"
   ]
  },
  {
   "cell_type": "code",
   "execution_count": null,
   "metadata": {},
   "outputs": [],
   "source": []
  }
 ],
 "metadata": {
  "kernelspec": {
   "display_name": "Python 3",
   "language": "python",
   "name": "python3"
  },
  "language_info": {
   "codemirror_mode": {
    "name": "ipython",
    "version": 3
   },
   "file_extension": ".py",
   "mimetype": "text/x-python",
   "name": "python",
   "nbconvert_exporter": "python",
   "pygments_lexer": "ipython3",
   "version": "3.8.5"
  }
 },
 "nbformat": 4,
 "nbformat_minor": 4
}
